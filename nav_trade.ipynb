{
 "cells": [
  {
   "cell_type": "markdown",
   "id": "d7adf3cc-5dcd-4853-937c-8ffc875ec15f",
   "metadata": {},
   "source": [
    "# NAV Trade Code"
   ]
  },
  {
   "cell_type": "code",
   "execution_count": 1,
   "id": "d0e4b486-fb0f-407f-ae20-cc20f41a79aa",
   "metadata": {
    "tags": []
   },
   "outputs": [],
   "source": [
    "# Initial imports\n",
    "import os\n",
    "import requests\n",
    "import pandas as pd\n",
    "from dotenv import load_dotenv\n",
    "import alpaca_trade_api as tradeapi\n",
    "# from MCForecastTools import MCSimulation\n",
    "from pathlib import Path\n",
    "import json\n",
    "\n",
    "%matplotlib inline\n",
    "\n",
    "# Importing the warnings package to suppress warnings\n",
    "# import warnings\n",
    "# warnings.filterwarnings('ignore')"
   ]
  },
  {
   "cell_type": "code",
   "execution_count": 2,
   "id": "e64fc4db-6497-437d-bfa8-f4e4856e9297",
   "metadata": {
    "tags": []
   },
   "outputs": [],
   "source": [
    "# Load .env enviroment variables\n",
    "# load_dotenv('env.txt')"
   ]
  },
  {
   "cell_type": "code",
   "execution_count": 3,
   "id": "098cb191-83d0-4a64-aba8-9f6d1f66b840",
   "metadata": {
    "tags": []
   },
   "outputs": [],
   "source": [
    "# Set Alpaca API key and secret\n",
    "# alpaca_api_key = os.getenv(\"ALPACA_API_KEY\")\n",
    "# alpaca_secret_key = os.getenv(\"ALPACA_SECRET_KEY\")"
   ]
  },
  {
   "cell_type": "code",
   "execution_count": 4,
   "id": "18620eba-abb6-45ef-aa39-dd1227b9e558",
   "metadata": {
    "tags": []
   },
   "outputs": [],
   "source": [
    "# Verify that Alpaca key and secret were correctly loaded\n",
    "# print(f\"Alpaca Key type: {type(alpaca_api_key)}\")\n",
    "# print(f\"Alpaca Secret Key type: {type(alpaca_secret_key)}\")"
   ]
  },
  {
   "cell_type": "code",
   "execution_count": 5,
   "id": "1ff6c0ab-9a54-4b22-8fe2-4ac72d8a7c4f",
   "metadata": {
    "tags": []
   },
   "outputs": [],
   "source": [
    "# Create the Alpaca API object\n",
    "# alpaca = tradeapi.REST(\n",
    "#     alpaca_api_key,\n",
    "#     alpaca_secret_key,\n",
    "#     api_version=\"v2\")"
   ]
  },
  {
   "cell_type": "code",
   "execution_count": 6,
   "id": "ccce1cfd-aa3b-45e5-b42e-12e703cc2eda",
   "metadata": {
    "tags": []
   },
   "outputs": [],
   "source": [
    "# Set the tickers\n",
    "# tickers = [\n",
    "#     \"BTC\"\n",
    "#     # \"GBTC\"\n",
    "#     # \"TSLA\"\n",
    "#     # \"EEM\"\n",
    "# ]\n",
    "\n",
    "# print(tickers)"
   ]
  },
  {
   "cell_type": "code",
   "execution_count": 7,
   "id": "c7f75c71-65fa-47f4-8706-69261ff1d961",
   "metadata": {
    "tags": []
   },
   "outputs": [],
   "source": [
    "# Set timeframe to one day (\"1Day\") for the Alpaca API\n",
    "# timeframe = \"1Day\""
   ]
  },
  {
   "cell_type": "code",
   "execution_count": 8,
   "id": "b7166932-4470-420a-8a58-dc22a8d38bbb",
   "metadata": {
    "tags": []
   },
   "outputs": [],
   "source": [
    "# Format start and end dates as ISO format for one year period\n",
    "# start_time = pd.Timestamp(\"2022-10-31\", tz=\"America/New_York\").isoformat()\n",
    "# # end_time = pd.Timestamp(\"2020-10-31\", tz=\"America/New_York\").isoformat()\n",
    "# end_time = pd.Timestamp(\"2023-10-31\", tz=\"America/New_York\").isoformat()"
   ]
  },
  {
   "cell_type": "code",
   "execution_count": 9,
   "id": "a257f4ba-1ae1-4f93-bc17-f6991558fdf7",
   "metadata": {
    "tags": []
   },
   "outputs": [],
   "source": [
    "# Get current closing prices for FB and TWTR\n",
    "# btc_data = alpaca.get_bars(\n",
    "#     tickers,\n",
    "#     timeframe,\n",
    "#     start = start_time,\n",
    "#     end = end_time\n",
    "# ).df\n",
    "\n",
    "# # Display the data\n",
    "# btc_data.head()"
   ]
  },
  {
   "cell_type": "code",
   "execution_count": 10,
   "id": "c3d0a87b-3dc4-4b9e-a333-3859b92c060f",
   "metadata": {
    "tags": []
   },
   "outputs": [],
   "source": [
    "# API URLs\n",
    "# btc_url = \"https://api.alternative.me/v2/ticker/Bitcoin/?convert=USD\""
   ]
  },
  {
   "cell_type": "code",
   "execution_count": 11,
   "id": "89be1e96-0cb4-46f7-8516-7ebd77c0711c",
   "metadata": {
    "tags": []
   },
   "outputs": [],
   "source": [
    "# Request the data from the API and explore it\n",
    "# btc_request = requests.get(btc_url)\n",
    "# btc_data = btc_request.json()\n",
    "# print(json.dumps(btc_data, indent=4))"
   ]
  },
  {
   "cell_type": "code",
   "execution_count": 12,
   "id": "4bd8291b-e7aa-46d4-bb10-f13a3d164dd9",
   "metadata": {
    "tags": []
   },
   "outputs": [],
   "source": [
    "# temp_url = \"https://api.alternative.me/GET/v2/stocks/{symbol}/trades\""
   ]
  },
  {
   "cell_type": "code",
   "execution_count": 13,
   "id": "b9e5d97c-1bb8-48dd-96c0-e924e887e5a9",
   "metadata": {
    "tags": []
   },
   "outputs": [],
   "source": [
    "# api_key = os.getenv(\"NASDAQ_API_KEY\")"
   ]
  },
  {
   "cell_type": "code",
   "execution_count": 14,
   "id": "fd03f17e-917f-48bb-9a45-7d5c7e7dd573",
   "metadata": {
    "tags": []
   },
   "outputs": [],
   "source": [
    "# type(api_key)"
   ]
  },
  {
   "cell_type": "code",
   "execution_count": 15,
   "id": "784956e6-fbca-4a80-baf4-1c92a112cbc0",
   "metadata": {
    "tags": []
   },
   "outputs": [],
   "source": [
    "# # Define the base request URL\n",
    "# request_url = \"https://data.nasdaq.com/api/v3/datasets/WIKI/MSFT.json?api_key=\"\n",
    "\n",
    "# # Concatenate request_url and api_key. Store as new variable\n",
    "# request_url = request_url + api_key"
   ]
  },
  {
   "cell_type": "code",
   "execution_count": 16,
   "id": "d4b2e84e-3098-485e-8327-98814d156bd8",
   "metadata": {
    "tags": []
   },
   "outputs": [],
   "source": [
    "# # Execute get request\n",
    "# response_data = requests.get(request_url)"
   ]
  },
  {
   "cell_type": "code",
   "execution_count": 17,
   "id": "a8b284de-edcd-4159-9e2c-58216318f1bb",
   "metadata": {
    "tags": []
   },
   "outputs": [],
   "source": [
    "# # # Output data\n",
    "# # response_data.content\n",
    "# response_data.json()\n",
    "# # print(json.dumps(x, indent=4))"
   ]
  },
  {
   "cell_type": "code",
   "execution_count": 18,
   "id": "33575631-5b05-4367-9e1b-5075194d4bd7",
   "metadata": {
    "tags": []
   },
   "outputs": [
    {
     "data": {
      "text/html": [
       "<div>\n",
       "<style scoped>\n",
       "    .dataframe tbody tr th:only-of-type {\n",
       "        vertical-align: middle;\n",
       "    }\n",
       "\n",
       "    .dataframe tbody tr th {\n",
       "        vertical-align: top;\n",
       "    }\n",
       "\n",
       "    .dataframe thead th {\n",
       "        text-align: right;\n",
       "    }\n",
       "</style>\n",
       "<table border=\"1\" class=\"dataframe\">\n",
       "  <thead>\n",
       "    <tr style=\"text-align: right;\">\n",
       "      <th></th>\n",
       "      <th>Close/Last</th>\n",
       "      <th>Volume</th>\n",
       "      <th>Open</th>\n",
       "      <th>High</th>\n",
       "      <th>Low</th>\n",
       "    </tr>\n",
       "    <tr>\n",
       "      <th>Date</th>\n",
       "      <th></th>\n",
       "      <th></th>\n",
       "      <th></th>\n",
       "      <th></th>\n",
       "      <th></th>\n",
       "    </tr>\n",
       "  </thead>\n",
       "  <tbody>\n",
       "    <tr>\n",
       "      <th>2023-11-01</th>\n",
       "      <td>26.89</td>\n",
       "      <td>3498576.0</td>\n",
       "      <td>27.00</td>\n",
       "      <td>27.27</td>\n",
       "      <td>26.71</td>\n",
       "    </tr>\n",
       "    <tr>\n",
       "      <th>2023-10-31</th>\n",
       "      <td>26.76</td>\n",
       "      <td>2940913.0</td>\n",
       "      <td>26.50</td>\n",
       "      <td>26.83</td>\n",
       "      <td>26.13</td>\n",
       "    </tr>\n",
       "    <tr>\n",
       "      <th>2023-10-30</th>\n",
       "      <td>26.48</td>\n",
       "      <td>4704114.0</td>\n",
       "      <td>25.70</td>\n",
       "      <td>26.97</td>\n",
       "      <td>25.70</td>\n",
       "    </tr>\n",
       "    <tr>\n",
       "      <th>2023-10-27</th>\n",
       "      <td>25.07</td>\n",
       "      <td>3978757.0</td>\n",
       "      <td>25.86</td>\n",
       "      <td>26.40</td>\n",
       "      <td>24.85</td>\n",
       "    </tr>\n",
       "    <tr>\n",
       "      <th>2023-10-26</th>\n",
       "      <td>25.77</td>\n",
       "      <td>5328245.0</td>\n",
       "      <td>26.44</td>\n",
       "      <td>26.50</td>\n",
       "      <td>25.36</td>\n",
       "    </tr>\n",
       "  </tbody>\n",
       "</table>\n",
       "</div>"
      ],
      "text/plain": [
       "            Close/Last     Volume   Open   High    Low\n",
       "Date                                                  \n",
       "2023-11-01       26.89  3498576.0  27.00  27.27  26.71\n",
       "2023-10-31       26.76  2940913.0  26.50  26.83  26.13\n",
       "2023-10-30       26.48  4704114.0  25.70  26.97  25.70\n",
       "2023-10-27       25.07  3978757.0  25.86  26.40  24.85\n",
       "2023-10-26       25.77  5328245.0  26.44  26.50  25.36"
      ]
     },
     "metadata": {},
     "output_type": "display_data"
    }
   ],
   "source": [
    "# Read the GBTC Data\n",
    "gbtc_historical_data = pd.read_csv(\n",
    "    Path('./Resources/GBTC_Price_Data.csv'), index_col='Date', parse_dates=True\n",
    ")\n",
    "\n",
    "# Remove the dollar signs\n",
    "gbtc_historical_data['Close/Last'] = gbtc_historical_data['Close/Last'].str.replace(\"$\",\"\")\n",
    "gbtc_historical_data['Open'] = gbtc_historical_data['Open'].str.replace(\"$\",\"\")\n",
    "gbtc_historical_data['High'] = gbtc_historical_data['High'].str.replace(\"$\",\"\")\n",
    "gbtc_historical_data['Low'] = gbtc_historical_data['Low'].str.replace(\"$\",\"\")\n",
    "\n",
    "# Cast the string numbers as floats\n",
    "gbtc_historical_data['Close/Last'] = gbtc_historical_data['Close/Last'].astype(float).round(2)\n",
    "gbtc_historical_data['Open'] = gbtc_historical_data['Open'].astype(float).round(2)\n",
    "gbtc_historical_data['High'] = gbtc_historical_data['High'].astype(float).round(2)\n",
    "gbtc_historical_data['Low'] = gbtc_historical_data['Low'].astype(float).round(2)\n",
    "\n",
    "display(gbtc_historical_data.head())"
   ]
  },
  {
   "cell_type": "code",
   "execution_count": 19,
   "id": "01faf6ce-6b5a-4868-97a5-f56ca63a738b",
   "metadata": {
    "tags": []
   },
   "outputs": [
    {
     "data": {
      "text/html": [
       "<div>\n",
       "<style scoped>\n",
       "    .dataframe tbody tr th:only-of-type {\n",
       "        vertical-align: middle;\n",
       "    }\n",
       "\n",
       "    .dataframe tbody tr th {\n",
       "        vertical-align: top;\n",
       "    }\n",
       "\n",
       "    .dataframe thead th {\n",
       "        text-align: right;\n",
       "    }\n",
       "</style>\n",
       "<table border=\"1\" class=\"dataframe\">\n",
       "  <thead>\n",
       "    <tr style=\"text-align: right;\">\n",
       "      <th></th>\n",
       "      <th>Open</th>\n",
       "      <th>High</th>\n",
       "      <th>Low</th>\n",
       "      <th>Close</th>\n",
       "      <th>Adj Close</th>\n",
       "      <th>Volume</th>\n",
       "    </tr>\n",
       "    <tr>\n",
       "      <th>Date</th>\n",
       "      <th></th>\n",
       "      <th></th>\n",
       "      <th></th>\n",
       "      <th></th>\n",
       "      <th></th>\n",
       "      <th></th>\n",
       "    </tr>\n",
       "  </thead>\n",
       "  <tbody>\n",
       "    <tr>\n",
       "      <th>2023-11-03</th>\n",
       "      <td>34942.47</td>\n",
       "      <td>34942.47</td>\n",
       "      <td>34692.80</td>\n",
       "      <td>34692.80</td>\n",
       "      <td>34692.80</td>\n",
       "      <td>2.069136e+10</td>\n",
       "    </tr>\n",
       "    <tr>\n",
       "      <th>2023-11-02</th>\n",
       "      <td>NaN</td>\n",
       "      <td>NaN</td>\n",
       "      <td>NaN</td>\n",
       "      <td>NaN</td>\n",
       "      <td>NaN</td>\n",
       "      <td>NaN</td>\n",
       "    </tr>\n",
       "    <tr>\n",
       "      <th>2023-11-01</th>\n",
       "      <td>34657.27</td>\n",
       "      <td>35527.93</td>\n",
       "      <td>34170.69</td>\n",
       "      <td>35437.25</td>\n",
       "      <td>35437.25</td>\n",
       "      <td>2.244627e+10</td>\n",
       "    </tr>\n",
       "    <tr>\n",
       "      <th>2023-10-31</th>\n",
       "      <td>34500.08</td>\n",
       "      <td>34719.25</td>\n",
       "      <td>34083.31</td>\n",
       "      <td>34667.78</td>\n",
       "      <td>34667.78</td>\n",
       "      <td>1.575827e+10</td>\n",
       "    </tr>\n",
       "    <tr>\n",
       "      <th>2023-10-30</th>\n",
       "      <td>34531.74</td>\n",
       "      <td>34843.93</td>\n",
       "      <td>34110.97</td>\n",
       "      <td>34502.36</td>\n",
       "      <td>34502.36</td>\n",
       "      <td>1.718486e+10</td>\n",
       "    </tr>\n",
       "  </tbody>\n",
       "</table>\n",
       "</div>"
      ],
      "text/plain": [
       "                Open      High       Low     Close  Adj Close        Volume\n",
       "Date                                                                       \n",
       "2023-11-03  34942.47  34942.47  34692.80  34692.80   34692.80  2.069136e+10\n",
       "2023-11-02       NaN       NaN       NaN       NaN        NaN           NaN\n",
       "2023-11-01  34657.27  35527.93  34170.69  35437.25   35437.25  2.244627e+10\n",
       "2023-10-31  34500.08  34719.25  34083.31  34667.78   34667.78  1.575827e+10\n",
       "2023-10-30  34531.74  34843.93  34110.97  34502.36   34502.36  1.718486e+10"
      ]
     },
     "metadata": {},
     "output_type": "display_data"
    }
   ],
   "source": [
    "# Read the BTC Data\n",
    "btc_historical_data = pd.read_csv(\n",
    "    Path('./Resources/BTC_Price_Data.csv'), index_col='Date', parse_dates=True\n",
    ")\n",
    "\n",
    "# Sort the index\n",
    "btc_historical_data.sort_index(ascending=False, inplace=True)\n",
    "\n",
    "# Cast the string numbers as floats\n",
    "btc_historical_data['Open'] = btc_historical_data['Open'].astype(float).round(2)\n",
    "btc_historical_data['High'] = btc_historical_data['High'].astype(float).round(2)\n",
    "btc_historical_data['Low'] = btc_historical_data['Low'].astype(float).round(2)\n",
    "btc_historical_data['Close'] = btc_historical_data['Close'].astype(float).round(2)\n",
    "btc_historical_data['Adj Close'] = btc_historical_data['Adj Close'].astype(float).round(2)\n",
    "btc_historical_data['Volume'] = btc_historical_data['Volume'].astype(float).round(2)\n",
    "\n",
    "display(btc_historical_data.head())"
   ]
  },
  {
   "cell_type": "code",
   "execution_count": 27,
   "id": "9d54e8c0-2853-4029-993a-346aa5fa02de",
   "metadata": {
    "tags": []
   },
   "outputs": [
    {
     "data": {
      "text/html": [
       "<div>\n",
       "<style scoped>\n",
       "    .dataframe tbody tr th:only-of-type {\n",
       "        vertical-align: middle;\n",
       "    }\n",
       "\n",
       "    .dataframe tbody tr th {\n",
       "        vertical-align: top;\n",
       "    }\n",
       "\n",
       "    .dataframe thead th {\n",
       "        text-align: right;\n",
       "    }\n",
       "</style>\n",
       "<table border=\"1\" class=\"dataframe\">\n",
       "  <thead>\n",
       "    <tr style=\"text-align: right;\">\n",
       "      <th></th>\n",
       "      <th>Month</th>\n",
       "      <th>Year</th>\n",
       "      <th>GBTC Holdings (BTC)</th>\n",
       "      <th>month_number</th>\n",
       "    </tr>\n",
       "  </thead>\n",
       "  <tbody>\n",
       "    <tr>\n",
       "      <th>0</th>\n",
       "      <td>Jan</td>\n",
       "      <td>2023</td>\n",
       "      <td>635,420</td>\n",
       "      <td>1</td>\n",
       "    </tr>\n",
       "    <tr>\n",
       "      <th>1</th>\n",
       "      <td>Feb</td>\n",
       "      <td>2023</td>\n",
       "      <td>635,420</td>\n",
       "      <td>2</td>\n",
       "    </tr>\n",
       "    <tr>\n",
       "      <th>2</th>\n",
       "      <td>Mar</td>\n",
       "      <td>2023</td>\n",
       "      <td>635,420</td>\n",
       "      <td>3</td>\n",
       "    </tr>\n",
       "    <tr>\n",
       "      <th>3</th>\n",
       "      <td>Apr</td>\n",
       "      <td>2023</td>\n",
       "      <td>635,420</td>\n",
       "      <td>4</td>\n",
       "    </tr>\n",
       "    <tr>\n",
       "      <th>4</th>\n",
       "      <td>May</td>\n",
       "      <td>2023</td>\n",
       "      <td>635,420</td>\n",
       "      <td>5</td>\n",
       "    </tr>\n",
       "    <tr>\n",
       "      <th>5</th>\n",
       "      <td>Jun</td>\n",
       "      <td>2023</td>\n",
       "      <td>635,420</td>\n",
       "      <td>6</td>\n",
       "    </tr>\n",
       "    <tr>\n",
       "      <th>6</th>\n",
       "      <td>Jul</td>\n",
       "      <td>2023</td>\n",
       "      <td>635,420</td>\n",
       "      <td>7</td>\n",
       "    </tr>\n",
       "    <tr>\n",
       "      <th>7</th>\n",
       "      <td>Aug</td>\n",
       "      <td>2023</td>\n",
       "      <td>635,420</td>\n",
       "      <td>8</td>\n",
       "    </tr>\n",
       "    <tr>\n",
       "      <th>8</th>\n",
       "      <td>Sep</td>\n",
       "      <td>2023</td>\n",
       "      <td>635,420</td>\n",
       "      <td>9</td>\n",
       "    </tr>\n",
       "    <tr>\n",
       "      <th>9</th>\n",
       "      <td>Oct</td>\n",
       "      <td>2023</td>\n",
       "      <td>635,420</td>\n",
       "      <td>10</td>\n",
       "    </tr>\n",
       "    <tr>\n",
       "      <th>10</th>\n",
       "      <td>Nov</td>\n",
       "      <td>2023</td>\n",
       "      <td>635,420</td>\n",
       "      <td>11</td>\n",
       "    </tr>\n",
       "    <tr>\n",
       "      <th>11</th>\n",
       "      <td>Dec</td>\n",
       "      <td>2023</td>\n",
       "      <td>635,420</td>\n",
       "      <td>12</td>\n",
       "    </tr>\n",
       "    <tr>\n",
       "      <th>12</th>\n",
       "      <td>Jan</td>\n",
       "      <td>2022</td>\n",
       "      <td>618,055</td>\n",
       "      <td>1</td>\n",
       "    </tr>\n",
       "    <tr>\n",
       "      <th>13</th>\n",
       "      <td>Feb</td>\n",
       "      <td>2022</td>\n",
       "      <td>618,055</td>\n",
       "      <td>2</td>\n",
       "    </tr>\n",
       "    <tr>\n",
       "      <th>14</th>\n",
       "      <td>Mar</td>\n",
       "      <td>2022</td>\n",
       "      <td>618,055</td>\n",
       "      <td>3</td>\n",
       "    </tr>\n",
       "  </tbody>\n",
       "</table>\n",
       "</div>"
      ],
      "text/plain": [
       "   Month  Year GBTC Holdings (BTC)  month_number\n",
       "0    Jan  2023             635,420             1\n",
       "1    Feb  2023             635,420             2\n",
       "2    Mar  2023             635,420             3\n",
       "3    Apr  2023             635,420             4\n",
       "4    May  2023             635,420             5\n",
       "5    Jun  2023             635,420             6\n",
       "6    Jul  2023             635,420             7\n",
       "7    Aug  2023             635,420             8\n",
       "8    Sep  2023             635,420             9\n",
       "9    Oct  2023             635,420            10\n",
       "10   Nov  2023             635,420            11\n",
       "11   Dec  2023             635,420            12\n",
       "12   Jan  2022             618,055             1\n",
       "13   Feb  2022             618,055             2\n",
       "14   Mar  2022             618,055             3"
      ]
     },
     "execution_count": 27,
     "metadata": {},
     "output_type": "execute_result"
    }
   ],
   "source": [
    "# Read the GBTC holdings\n",
    "# Read the BTC Data\n",
    "gbtc_holdings_data = pd.read_csv(\n",
    "    Path('./Resources/GBTC_Holdings.csv')\n",
    "    # , index_col='Date', parse_dates=True\n",
    ")\n",
    "\n",
    "month_map = {'Jan':1, 'Feb':2, 'Mar':3, 'Apr':4, 'May':5, 'Jun':6, 'Jul':7, 'Aug':8, 'Sep':9, 'Oct':10, 'Nov':11, 'Dec':12}\n",
    "\n",
    "gbtc_holdings_data['month_number'] = gbtc_holdings_data.Month.map(month_map)\n",
    "\n",
    "gbtc_holdings_data.head(15)"
   ]
  },
  {
   "cell_type": "code",
   "execution_count": 21,
   "id": "66dc9f12-6a08-4a4d-8128-9d4671f06bac",
   "metadata": {
    "tags": []
   },
   "outputs": [
    {
     "data": {
      "text/html": [
       "<div>\n",
       "<style scoped>\n",
       "    .dataframe tbody tr th:only-of-type {\n",
       "        vertical-align: middle;\n",
       "    }\n",
       "\n",
       "    .dataframe tbody tr th {\n",
       "        vertical-align: top;\n",
       "    }\n",
       "\n",
       "    .dataframe thead th {\n",
       "        text-align: right;\n",
       "    }\n",
       "</style>\n",
       "<table border=\"1\" class=\"dataframe\">\n",
       "  <thead>\n",
       "    <tr style=\"text-align: right;\">\n",
       "      <th></th>\n",
       "      <th>GBTC_Close</th>\n",
       "      <th>BTC_Close</th>\n",
       "    </tr>\n",
       "    <tr>\n",
       "      <th>Date</th>\n",
       "      <th></th>\n",
       "      <th></th>\n",
       "    </tr>\n",
       "  </thead>\n",
       "  <tbody>\n",
       "    <tr>\n",
       "      <th>2023-11-01</th>\n",
       "      <td>26.89</td>\n",
       "      <td>35437.25</td>\n",
       "    </tr>\n",
       "    <tr>\n",
       "      <th>2023-10-31</th>\n",
       "      <td>26.76</td>\n",
       "      <td>34667.78</td>\n",
       "    </tr>\n",
       "    <tr>\n",
       "      <th>2023-10-30</th>\n",
       "      <td>26.48</td>\n",
       "      <td>34502.36</td>\n",
       "    </tr>\n",
       "    <tr>\n",
       "      <th>2023-10-27</th>\n",
       "      <td>25.07</td>\n",
       "      <td>33909.80</td>\n",
       "    </tr>\n",
       "    <tr>\n",
       "      <th>2023-10-26</th>\n",
       "      <td>25.77</td>\n",
       "      <td>34156.65</td>\n",
       "    </tr>\n",
       "  </tbody>\n",
       "</table>\n",
       "</div>"
      ],
      "text/plain": [
       "            GBTC_Close  BTC_Close\n",
       "Date                             \n",
       "2023-11-01       26.89   35437.25\n",
       "2023-10-31       26.76   34667.78\n",
       "2023-10-30       26.48   34502.36\n",
       "2023-10-27       25.07   33909.80\n",
       "2023-10-26       25.77   34156.65"
      ]
     },
     "execution_count": 21,
     "metadata": {},
     "output_type": "execute_result"
    }
   ],
   "source": [
    "# Reorganize the dataframe\n",
    "\n",
    "# Isolate the closing price and rename the one column to be GBTC_Close\n",
    "GBTC = gbtc_historical_data[['Close/Last']].rename(columns={'Close/Last' : 'GBTC_Close'})\n",
    "\n",
    "# GBTC.head()\n",
    "\n",
    "# Isolate the closing price and rename the one column to be BTC_Close\n",
    "BTC = btc_historical_data[['Close']].rename(columns={'Close' : 'BTC_Close'})\n",
    "\n",
    "# BTC.head()\n",
    "\n",
    "combined_df = pd.concat([GBTC,BTC],axis=\"columns\", join=\"inner\")\n",
    "\n",
    "combined_df.head()"
   ]
  },
  {
   "cell_type": "code",
   "execution_count": 22,
   "id": "77b2b4d1-bacc-4cde-86a0-64b9bb729fd3",
   "metadata": {
    "tags": []
   },
   "outputs": [
    {
     "data": {
      "text/html": [
       "<div>\n",
       "<style scoped>\n",
       "    .dataframe tbody tr th:only-of-type {\n",
       "        vertical-align: middle;\n",
       "    }\n",
       "\n",
       "    .dataframe tbody tr th {\n",
       "        vertical-align: top;\n",
       "    }\n",
       "\n",
       "    .dataframe thead th {\n",
       "        text-align: right;\n",
       "    }\n",
       "</style>\n",
       "<table border=\"1\" class=\"dataframe\">\n",
       "  <thead>\n",
       "    <tr style=\"text-align: right;\">\n",
       "      <th></th>\n",
       "      <th>GBTC_Close</th>\n",
       "      <th>BTC_Close</th>\n",
       "      <th>NAV</th>\n",
       "    </tr>\n",
       "    <tr>\n",
       "      <th>Date</th>\n",
       "      <th></th>\n",
       "      <th></th>\n",
       "      <th></th>\n",
       "    </tr>\n",
       "  </thead>\n",
       "  <tbody>\n",
       "    <tr>\n",
       "      <th>2023-11-01</th>\n",
       "      <td>26.89</td>\n",
       "      <td>35437.25</td>\n",
       "      <td>2689.0</td>\n",
       "    </tr>\n",
       "    <tr>\n",
       "      <th>2023-10-31</th>\n",
       "      <td>26.76</td>\n",
       "      <td>34667.78</td>\n",
       "      <td>2676.0</td>\n",
       "    </tr>\n",
       "    <tr>\n",
       "      <th>2023-10-30</th>\n",
       "      <td>26.48</td>\n",
       "      <td>34502.36</td>\n",
       "      <td>2648.0</td>\n",
       "    </tr>\n",
       "    <tr>\n",
       "      <th>2023-10-27</th>\n",
       "      <td>25.07</td>\n",
       "      <td>33909.80</td>\n",
       "      <td>2507.0</td>\n",
       "    </tr>\n",
       "    <tr>\n",
       "      <th>2023-10-26</th>\n",
       "      <td>25.77</td>\n",
       "      <td>34156.65</td>\n",
       "      <td>2577.0</td>\n",
       "    </tr>\n",
       "  </tbody>\n",
       "</table>\n",
       "</div>"
      ],
      "text/plain": [
       "            GBTC_Close  BTC_Close     NAV\n",
       "Date                                     \n",
       "2023-11-01       26.89   35437.25  2689.0\n",
       "2023-10-31       26.76   34667.78  2676.0\n",
       "2023-10-30       26.48   34502.36  2648.0\n",
       "2023-10-27       25.07   33909.80  2507.0\n",
       "2023-10-26       25.77   34156.65  2577.0"
      ]
     },
     "execution_count": 22,
     "metadata": {},
     "output_type": "execute_result"
    }
   ],
   "source": [
    "combined_df['NAV'] = combined_df['GBTC_Close'] * 100\n",
    "\n",
    "combined_df.head()"
   ]
  },
  {
   "cell_type": "code",
   "execution_count": null,
   "id": "8a245c1f-a97c-4b18-9abb-f80673fe5502",
   "metadata": {},
   "outputs": [],
   "source": []
  }
 ],
 "metadata": {
  "kernelspec": {
   "display_name": "Python 3 (ipykernel)",
   "language": "python",
   "name": "python3"
  },
  "language_info": {
   "codemirror_mode": {
    "name": "ipython",
    "version": 3
   },
   "file_extension": ".py",
   "mimetype": "text/x-python",
   "name": "python",
   "nbconvert_exporter": "python",
   "pygments_lexer": "ipython3",
   "version": "3.10.13"
  }
 },
 "nbformat": 4,
 "nbformat_minor": 5
}
